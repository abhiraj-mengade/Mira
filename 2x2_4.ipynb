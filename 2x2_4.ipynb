{
  "cells": [
    {
      "cell_type": "markdown",
      "metadata": {
        "colab_type": "text",
        "id": "view-in-github"
      },
      "source": [
        "<a href=\"https://colab.research.google.com/github/kid-116/Mira/blob/main/2x2_4.ipynb\" target=\"_parent\"><img src=\"https://colab.research.google.com/assets/colab-badge.svg\" alt=\"Open In Colab\"/></a>"
      ]
    },
    {
      "cell_type": "markdown",
      "metadata": {
        "id": "gIa94ARbkhsY"
      },
      "source": [
        "# Mira\n",
        "## Quantum Sudoku Solver"
      ]
    },
    {
      "cell_type": "markdown",
      "metadata": {
        "id": "bBtpdxamknnP"
      },
      "source": [
        "### Import Libraries"
      ]
    },
    {
      "cell_type": "code",
      "execution_count": null,
      "metadata": {
        "id": "IWv8FTxyo4VH"
      },
      "outputs": [],
      "source": [
        "!pip install qiskit\n",
        "!pip install qiskit[visualization]\n",
        "!pip install pylatexenc"
      ]
    },
    {
      "cell_type": "code",
      "execution_count": 65,
      "metadata": {
        "id": "74Nxh_iukdjh"
      },
      "outputs": [],
      "source": [
        "import matplotlib.pyplot as plt\n",
        "import numpy as np\n",
        "import math\n",
        "\n",
        "from qiskit import *\n",
        "from qiskit.providers.ibmq import least_busy\n",
        "from qiskit.quantum_info import Statevector\n",
        "\n",
        "from qiskit.visualization import plot_histogram"
      ]
    },
    {
      "cell_type": "markdown",
      "metadata": {
        "id": "Zla5GeJNbN6C"
      },
      "source": [
        "### Helpers"
      ]
    },
    {
      "cell_type": "code",
      "execution_count": 3,
      "metadata": {
        "id": "Yb09N7pIr-WA"
      },
      "outputs": [],
      "source": [
        "DRAW_FORMAT = 'mpl'"
      ]
    },
    {
      "cell_type": "code",
      "execution_count": 4,
      "metadata": {
        "id": "LhGgOIVywYZa"
      },
      "outputs": [],
      "source": [
        "def display_qc(qc):\n",
        "  display(qc.draw(DRAW_FORMAT, fold=-1))"
      ]
    },
    {
      "cell_type": "markdown",
      "metadata": {
        "id": "i5htO_M9Fsd3"
      },
      "source": [
        "#### Calculating t"
      ]
    },
    {
      "cell_type": "code",
      "execution_count": 88,
      "metadata": {
        "id": "LJPMafkZF01M"
      },
      "outputs": [],
      "source": [
        "# theta(t) = (2t+1) * theta = pi/2\n",
        "# sin(theta) = 1/sqrt(N)\n",
        "# N = 2^n\n",
        "def num_turns(n):\n",
        "  N = 1 << n\n",
        "  theta = math.asin(1 / N**(1/2))\n",
        "  t = (math.pi / (2 * theta) - 1) // 2\n",
        "  return int(t)"
      ]
    },
    {
      "cell_type": "code",
      "execution_count": 89,
      "metadata": {
        "colab": {
          "base_uri": "https://localhost:8080/"
        },
        "id": "owWzCW0GGllm",
        "outputId": "538ae9af-04c3-4766-dfee-86f1ed4dbef8"
      },
      "outputs": [
        {
          "data": {
            "text/plain": [
              "2"
            ]
          },
          "execution_count": 89,
          "metadata": {},
          "output_type": "execute_result"
        }
      ],
      "source": [
        "num_turns(4)"
      ]
    },
    {
      "cell_type": "markdown",
      "metadata": {
        "id": "nXLj0QBebZDe"
      },
      "source": [
        "#### XOR Gate"
      ]
    },
    {
      "cell_type": "code",
      "execution_count": 5,
      "metadata": {
        "id": "dz4kgsbjoJ36"
      },
      "outputs": [],
      "source": [
        "def XOR(qc, a, b, output):\n",
        "  qc.cx(a, output)\n",
        "  qc.cx(b, output)"
      ]
    },
    {
      "cell_type": "code",
      "execution_count": 6,
      "metadata": {
        "colab": {
          "base_uri": "https://localhost:8080/",
          "height": 185
        },
        "id": "MYskmREoojRW",
        "outputId": "fa060fda-9f3b-470e-f8bc-ced16abb5563"
      },
      "outputs": [
        {
          "data": {
            "image/png": "[encoded data removed]",
            "text/plain": [
              "<Figure size 248.972x204.68 with 1 Axes>"
            ]
          },
          "metadata": {},
          "output_type": "display_data"
        }
      ],
      "source": [
        "in_qubits = QuantumRegister(2, name='input')\n",
        "out_qubit = QuantumRegister(1, name='output')\n",
        "qc = QuantumCircuit(in_qubits, out_qubit)\n",
        "XOR(qc, in_qubits[0], in_qubits[1], out_qubit)\n",
        "display(qc.draw(DRAW_FORMAT))"
      ]
    },
    {
      "cell_type": "markdown",
      "metadata": {
        "id": "hYSd0JUNbnc3"
      },
      "source": [
        "#### Grover Diffuser"
      ]
    },
    {
      "cell_type": "code",
      "execution_count": 75,
      "metadata": {
        "id": "iMlyX4jUwAUe"
      },
      "outputs": [],
      "source": [
        "def diffuser(nqubits, display_gate=False):\n",
        "    qc = QuantumCircuit(nqubits)\n",
        "    for qubit in range(nqubits):\n",
        "        qc.h(qubit)\n",
        "\n",
        "    # R0\n",
        "    for qubit in range(nqubits):\n",
        "        qc.x(qubit)\n",
        "    qc.h(nqubits-1)\n",
        "    qc.mct(list(range(nqubits-1)), nqubits-1)\n",
        "    qc.h(nqubits-1)\n",
        "    for qubit in range(nqubits):\n",
        "        qc.x(qubit)\n",
        "\n",
        "    for qubit in range(nqubits):\n",
        "        qc.h(qubit)\n",
        "    if display_gate:\n",
        "      display_qc(qc)\n",
        "    U = qc.to_gate()\n",
        "    U.name = 'R$_s$'\n",
        "    return U"
      ]
    },
    {
      "cell_type": "code",
      "execution_count": 62,
      "metadata": {
        "colab": {
          "base_uri": "https://localhost:8080/",
          "height": 249
        },
        "id": "sIlYHDrgirc1",
        "outputId": "d13f42ba-21ca-4652-c1fc-c8fa6621e819"
      },
      "outputs": [
        {
          "data": {
            "image/png": "[encoded data removed]",
            "text/plain": [
              "<Figure size 507.997x264.88 with 1 Axes>"
            ]
          },
          "metadata": {},
          "output_type": "display_data"
        },
        {
          "data": {
            "text/plain": [
              "Instruction(name='U$_s$', num_qubits=4, num_clbits=0, params=[])"
            ]
          },
          "execution_count": 62,
          "metadata": {},
          "output_type": "execute_result"
        }
      ],
      "source": [
        "diffuser(4, True)"
      ]
    },
    {
      "cell_type": "markdown",
      "metadata": {
        "id": "l0GHPQlibwN2"
      },
      "source": [
        "### Implementation"
      ]
    },
    {
      "cell_type": "markdown",
      "metadata": {
        "id": "u__cWBrwb7_3"
      },
      "source": [
        "#### Clauses"
      ]
    },
    {
      "cell_type": "code",
      "execution_count": 8,
      "metadata": {
        "id": "X-6BCikalNMU"
      },
      "outputs": [],
      "source": [
        "# ┌─────────┐\n",
        "# │ v0 | v1 │\n",
        "# ├────┼────┤\n",
        "# │ v2 | v3 │\n",
        "# └─────────┘\n",
        "\n",
        "# Defining pairs which shouldn't be equal in a valid solution\n",
        "not_eq = [\n",
        "    (0, 1),\n",
        "    (0, 2),\n",
        "    (1, 3),\n",
        "    (2, 3)\n",
        "]"
      ]
    },
    {
      "cell_type": "code",
      "execution_count": 18,
      "metadata": {
        "id": "MRbmauhieC5q"
      },
      "outputs": [],
      "source": [
        "def sudoku_oracle(qc, clauses, clause_qubits, output_qubit):\n",
        "    for i, clause in enumerate(clauses):\n",
        "      XOR(qc, clause[0], clause[1], clause_qubits[i])\n",
        "\n",
        "    qc.mct(clause_qubits, output_qubit)\n",
        "\n",
        "    for i, clause in enumerate(not_eq):\n",
        "      XOR(qc, clause[0], clause[1], clause_qubits[i])"
      ]
    },
    {
      "cell_type": "code",
      "execution_count": 83,
      "metadata": {
        "id": "Gourt5P6K21L"
      },
      "outputs": [],
      "source": [
        "def sudoku_oracle(clauses, display_gate=False):\n",
        "  var_qubits = QuantumRegister(4, name='v')\n",
        "  clause_qubits = QuantumRegister(len(not_eq), name='c')\n",
        "  output_qubit = QuantumRegister(1, name='out')\n",
        "\n",
        "  qc = QuantumCircuit(var_qubits, clause_qubits, output_qubit)\n",
        "\n",
        "  for i, clause in enumerate(clauses):\n",
        "    XOR(qc, clause[0], clause[1], clause_qubits[i])\n",
        "\n",
        "  qc.mct(clause_qubits, output_qubit)\n",
        "\n",
        "  for i, clause in enumerate(not_eq):\n",
        "    XOR(qc, clause[0], clause[1], clause_qubits[i])\n",
        "\n",
        "  if display_gate:\n",
        "    display_qc(qc)\n",
        "  U = qc.to_gate()\n",
        "  U.name = 'U$_f$'\n",
        "  return U"
      ]
    },
    {
      "cell_type": "code",
      "execution_count": 84,
      "metadata": {
        "colab": {
          "base_uri": "https://localhost:8080/",
          "height": 476
        },
        "id": "cN41oZy9LQWR",
        "outputId": "34b4e9dd-3a3f-45e4-ddc8-a2b173c950e6"
      },
      "outputs": [
        {
          "data": {
            "image/png": "[encoded data removed]",
            "text/plain": [
              "<Figure size 1117.49x565.88 with 1 Axes>"
            ]
          },
          "metadata": {},
          "output_type": "display_data"
        },
        {
          "data": {
            "text/plain": [
              "Instruction(name='U$_f$', num_qubits=9, num_clbits=0, params=[])"
            ]
          },
          "execution_count": 84,
          "metadata": {},
          "output_type": "execute_result"
        }
      ],
      "source": [
        "sudoku_oracle(not_eq, True)"
      ]
    },
    {
      "cell_type": "code",
      "execution_count": 90,
      "metadata": {
        "colab": {
          "base_uri": "https://localhost:8080/",
          "height": 504
        },
        "id": "XSGFE0ELrUV5",
        "outputId": "15a46b36-48f2-4669-c6c4-11524a22b566"
      },
      "outputs": [
        {
          "data": {
            "image/png": "[encoded data removed]",
            "text/plain": [
              "<Figure size 832.072x626.08 with 1 Axes>"
            ]
          },
          "metadata": {},
          "output_type": "display_data"
        }
      ],
      "source": [
        "var_qubits = QuantumRegister(4, name='v')\n",
        "clause_qubits = QuantumRegister(len(not_eq), name='c')\n",
        "output_qubit = QuantumRegister(1, name='out')\n",
        "cbits = ClassicalRegister(4, name='cbits')\n",
        "\n",
        "qc = QuantumCircuit(var_qubits, clause_qubits, output_qubit, cbits)\n",
        "\n",
        "qc.initialize([1, -1]/np.sqrt(2), output_qubit)\n",
        "qc.h(var_qubits)\n",
        "\n",
        "qc.barrier()\n",
        "\n",
        "n = 4\n",
        "for _ in range(num_turns(n)):\n",
        "  qc.append(sudoku_oracle(not_eq), [i for i in range(8 + 1)])\n",
        "  qc.append(diffuser(n), [0, 1, 2, 3])\n",
        "\n",
        "qc.barrier()\n",
        "\n",
        "qc.measure(var_qubits, cbits)\n",
        "\n",
        "display_qc(qc)"
      ]
    },
    {
      "cell_type": "markdown",
      "metadata": {
        "id": "m3c0djXJclGL"
      },
      "source": [
        "#### Execution"
      ]
    },
    {
      "cell_type": "code",
      "execution_count": 91,
      "metadata": {
        "colab": {
          "base_uri": "https://localhost:8080/",
          "height": 348
        },
        "id": "-0JqGOAqwtDo",
        "outputId": "3a614e4a-2c63-4341-891d-65960ba00808"
      },
      "outputs": [
        {
          "data": {
            "image/png": "[encoded data removed]",
            "text/plain": [
              "<Figure size 504x360 with 1 Axes>"
            ]
          },
          "execution_count": 91,
          "metadata": {},
          "output_type": "execute_result"
        }
      ],
      "source": [
        "aer_sim = Aer.get_backend('aer_simulator')\n",
        "transpiled_qc = transpile(qc, aer_sim)\n",
        "qobj = assemble(transpiled_qc)\n",
        "result = aer_sim.run(qobj).result()\n",
        "plot_histogram(result.get_counts())"
      ]
    },
    {
      "cell_type": "markdown",
      "metadata": {
        "id": "8ZniGXaWcsG8"
      },
      "source": [
        "#### Inference\n",
        "We can infer that solutions 0110 and 1001 are valid by taking a quick look at the histogram above. "
      ]
    }
  ],
  "metadata": {
    "colab": {
      "collapsed_sections": [],
      "include_colab_link": true,
      "provenance": []
    },
    "kernelspec": {
      "display_name": "Python 3.9.13 64-bit (microsoft store)",
      "language": "python",
      "name": "python3"
    },
    "language_info": {
      "name": "python",
      "version": "3.9.13"
    },
    "vscode": {
      "interpreter": {
        "hash": "53d09f6352a7249148912198753cdea924accd91c0c2c9cd6b0f175915356922"
      }
    }
  },
  "nbformat": 4,
  "nbformat_minor": 0
}
